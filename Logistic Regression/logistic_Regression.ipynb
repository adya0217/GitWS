{
 "cells": [
  {
   "cell_type": "code",
   "execution_count": 75,
   "metadata": {},
   "outputs": [
    {
     "name": "stdout",
     "output_type": "stream",
     "text": [
      "cost after  0 iteration is :  399.94592318308844\n",
      "cost after  100 iteration is :  379.26312348665954\n",
      "cost after  200 iteration is :  363.07299809662265\n",
      "cost after  300 iteration is :  350.24204292364044\n",
      "cost after  400 iteration is :  339.91625576424144\n",
      "cost after  500 iteration is :  331.472479644661\n",
      "cost after  600 iteration is :  324.4603658190453\n",
      "cost after  700 iteration is :  318.5534944330103\n",
      "cost after  800 iteration is :  313.51297504639683\n",
      "cost after  900 iteration is :  309.1616986928475\n"
     ]
    },
    {
     "data": {
      "image/png": "[encoded data removed]",
      "text/plain": [
       "<Figure size 640x480 with 1 Axes>"
      ]
     },
     "metadata": {},
     "output_type": "display_data"
    },
    {
     "name": "stdout",
     "output_type": "stream",
     "text": [
      "Accuracy of the model is :  100.0 %\n"
     ]
    }
   ],
   "source": [
    "import numpy as np\n",
    "import pandas as pd\n",
    "import matplotlib.pyplot as plt\n",
    "\n",
    "\n",
    "train = pd.read_csv(\"train-LR.csv\")\n",
    "test = pd.read_csv(\"test.csv\")\n",
    "\n",
    "train=train.drop(['Name'], axis=1)\n",
    "\n",
    "\n",
    "train_data = train.values\n",
    "X = train_data[:, 1:]\n",
    "Y = train_data[:, : 1]\n",
    "\n",
    "test_data = test.values\n",
    "Y_test = train_data[:, : 1]\n",
    "X_test = train_data[:, 1:]\n",
    "\n",
    "def sigmoid(x):\n",
    "    return 1/(1 + np.exp(-x))\n",
    "\n",
    "def model(P, Y, learning_rate, iterations):\n",
    "    \n",
    "    m = X.shape[1]\n",
    "    n = X.shape[0]\n",
    "    \n",
    "    W = np.zeros((n,1))\n",
    "    B = 0\n",
    "    \n",
    "    cost_list = []\n",
    "    \n",
    "    for i in range(iterations):\n",
    "        \n",
    "        Z = np.dot(W.T, P) + B\n",
    "        A = sigmoid(Z)\n",
    "        \n",
    "        # cost function\n",
    "        cost = -(1/m)*np.sum( Y*np.log(A) + (1-Y)*np.log(1-A))\n",
    "        \n",
    "        # Gradient Descent\n",
    "        dW = (1/m)*np.dot(A-Y, P.T)\n",
    "        dB = (1/m)*np.sum(A - Y)\n",
    "        \n",
    "        W = W - learning_rate*dW.T\n",
    "        B = B - learning_rate*dB\n",
    "        \n",
    "        # Keeping track of our cost function value\n",
    "        cost_list.append(cost)\n",
    "        \n",
    "        if(i%(iterations/10) == 0):\n",
    "            print(\"cost after \", i, \"iteration is : \", cost)\n",
    "        \n",
    "    return W, B, cost_list\n",
    "\n",
    "\n",
    "iterations = 1000\n",
    "learning_rate = 0.000000015\n",
    "W, B, cost_list = model(X, Y, learning_rate = learning_rate, iterations = iterations)\n",
    "\n",
    "plt.plot(np.arange(iterations), cost_list)\n",
    "plt.show()\n",
    "\n",
    "def accuracy(X, Y, W, B):\n",
    "    \n",
    "    Z = np.dot(W.T, X) + B\n",
    "    A = sigmoid(Z)\n",
    "    \n",
    "    A = A > 0.5\n",
    "    \n",
    "    A = np.array(A, dtype = 'int64')\n",
    "    \n",
    "    acc = (1 - (1 / X_test.shape[0]) *(np.sum(np.abs(A - Y))/Y.shape[1]))*100\n",
    "    \n",
    " #error = (1 / X_test.shape[0]) * np.sum(np.abs((y_pred - Y_test) / Y_test))\n",
    "\n",
    "    \n",
    "    print(\"Accuracy of the model is : \", acc, \"%\")\n",
    "\n",
    "accuracy(X_test, Y_test, W, B)"
   ]
  }
 ],
 "metadata": {
  "kernelspec": {
   "display_name": "Python 3",
   "language": "python",
   "name": "python3"
  },
  "language_info": {
   "codemirror_mode": {
    "name": "ipython",
    "version": 3
   },
   "file_extension": ".py",
   "mimetype": "text/x-python",
   "name": "python",
   "nbconvert_exporter": "python",
   "pygments_lexer": "ipython3",
   "version": "3.12.0"
  }
 },
 "nbformat": 4,
 "nbformat_minor": 2
}
