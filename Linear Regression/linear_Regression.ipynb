{
 "cells": [
  {
   "cell_type": "code",
   "execution_count": 1,
   "metadata": {},
   "outputs": [
    {
     "name": "stdout",
     "output_type": "stream",
     "text": [
      "Shape of X_train : (1168, 11)\n",
      "Shape of Y_train : (1168, 1)\n",
      "Shape of X_test : (292, 11)\n",
      "Shape of Y_test : (292, 1)\n",
      "Cost is : 19608941954.06892\n",
      "Cost is : 1265970426.032749\n",
      "Cost is : 1185081558.1090434\n",
      "Cost is : 1157079761.9520137\n",
      "Cost is : 1139041599.3859987\n",
      "Cost is : 1126008205.454589\n",
      "Cost is : 1116396133.6167321\n",
      "Cost is : 1109267958.7906728\n",
      "Cost is : 1103970031.749363\n",
      "Cost is : 1100026955.1704476\n"
     ]
    },
    {
     "data": {
      "image/png": "[encoded data removed]",
      "text/plain": [
       "<Figure size 640x480 with 1 Axes>"
      ]
     },
     "metadata": {},
     "output_type": "display_data"
    },
    {
     "name": "stdout",
     "output_type": "stream",
     "text": [
      "error  0.18777733348994632\n",
      "Test error is : 18.777733348994634 %\n",
      "Test Accuracy is : 81.22226665100537 %\n"
     ]
    }
   ],
   "source": [
    "import numpy as np\n",
    "import pandas as pd\n",
    "import matplotlib.pyplot as plt\n",
    "\n",
    "train = pd.read_csv(\"train.csv\")\n",
    "test = pd.read_csv(\"test.csv\")\n",
    "\n",
    "train.head()\n",
    "\n",
    "train_data = train.values\n",
    "Y = train_data[:, -1].reshape(train_data.shape[0], 1)\n",
    "X = train_data[:, :-1]\n",
    "\n",
    "# print(\"X \", X)\n",
    "# print(\"y \", Y)\n",
    "\n",
    "\n",
    "test_data = test.values\n",
    "Y_test = test_data[:, -1].reshape(test_data.shape[0], 1)\n",
    "X_test = test_data[:, :-1]\n",
    "\n",
    "X = np.vstack((np.ones((X.shape[0],)), X.T)).T\n",
    "X_test = np.vstack((np.ones((X_test.shape[0],)), X_test.T)).T\n",
    "\n",
    "print(\"Shape of X_train :\", X.shape)\n",
    "print(\"Shape of Y_train :\", Y.shape)\n",
    "print(\"Shape of X_test :\", X_test.shape)\n",
    "print(\"Shape of Y_test :\", Y_test.shape)\n",
    "\n",
    "\n",
    "def model(X, Y, learning_rate, iteration):\n",
    "    m = Y.size\n",
    "    theta = np.zeros((X.shape[1], 1))\n",
    "    cost_list = []\n",
    "\n",
    "    for i in range(iteration):\n",
    "        y_pred = np.dot(X, theta)\n",
    "\n",
    "        cost = (1 / (2 * m)) * np.sum(np.square(y_pred - Y))\n",
    "\n",
    "        d_theta = (1 / m) * np.dot(X.T, y_pred - Y)\n",
    "\n",
    "        theta = theta - learning_rate * d_theta\n",
    "\n",
    "        cost_list.append(cost)\n",
    "\n",
    "        if (i % (iteration / 10) == 0):\n",
    "            print(\"Cost is :\", cost)\n",
    "\n",
    "    return theta, cost_list\n",
    "\n",
    "\n",
    "iteration = 1000\n",
    "learning_rate = 0.00000005\n",
    "\n",
    "theta, cost_list = model(X, Y, learning_rate=learning_rate, iteration=iteration)\n",
    "\n",
    "rng = np.arange(0, iteration)\n",
    "plt.plot(rng, cost_list)\n",
    "plt.show()\n",
    "\n",
    "y_pred = np.dot(X_test, theta)\n",
    "\n",
    "# Mean Absolute Percentage Error\n",
    "error = (1 / X_test.shape[0]) * np.sum(np.abs((y_pred - Y_test) / Y_test))\n",
    "\n",
    "print(\"error \", error)\n",
    "\n",
    "print(\"Test error is :\", error * 100, \"%\")\n",
    "print(\"Test Accuracy is :\", (1 - error) * 100, \"%\")\n"
   ]
  }
 ],
 "metadata": {
  "kernelspec": {
   "display_name": "Python 3",
   "language": "python",
   "name": "python3"
  },
  "language_info": {
   "codemirror_mode": {
    "name": "ipython",
    "version": 3
   },
   "file_extension": ".py",
   "mimetype": "text/x-python",
   "name": "python",
   "nbconvert_exporter": "python",
   "pygments_lexer": "ipython3",
   "version": "3.12.0"
  }
 },
 "nbformat": 4,
 "nbformat_minor": 2
}
